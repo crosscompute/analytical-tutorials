{
 "cells": [
  {
   "cell_type": "markdown",
   "metadata": {
    "tags": []
   },
   "source": [
    "# Mapping Choropleths in Your Reports and Dashboards\n",
    "\n",
    "Learn how to generate choropleth maps for your reports and dashboards in this interactive workshop. We will be using NYC zip codes as our primary dataset. In the first part of this workshop, we will cover mapping basics, including geojson, two dimensional and three dimensional choropleths using MapboxGL in JupyterLab. In the second part of the workshop, we will cover how to process data to generate the choropleths, including pandas joins, spatial reference systems, color maps and color stops. In the third part of the workshop, we will cover how to create dynamic choropleths using ScreenGridLayer in pydeck. At the end, we show example choropleths in reports and dashboards made using the open source CrossCompute Analytics Automation Framework.\n",
    "\n",
    "- Toy Choropleths (25 minutes)\n",
    "- Break (5 minutes)\n",
    "- Real Choropleths (25 minutes)\n",
    "- Break (5 minutes)\n",
    "- Dynamic Choropleths (25 minutes)\n",
    "- Report and Dashboard Examples (5 minutes)"
   ]
  }
 ],
 "metadata": {
  "kernelspec": {
   "display_name": "Python 3",
   "language": "python",
   "name": "python3"
  },
  "language_info": {
   "codemirror_mode": {
    "name": "ipython",
    "version": 3
   },
   "file_extension": ".py",
   "mimetype": "text/x-python",
   "name": "python",
   "nbconvert_exporter": "python",
   "pygments_lexer": "ipython3",
   "version": "3.9.7"
  }
 },
 "nbformat": 4,
 "nbformat_minor": 4
}
