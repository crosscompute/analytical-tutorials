{
 "cells": [
  {
   "cell_type": "markdown",
   "metadata": {
    "tags": []
   },
   "source": [
    "# Mapping Choropleths in Your Reports and Dashboards\n",
    "\n",
    "Learn how to generate choropleth maps for your reports and dashboards in this interactive workshop. We will use NYC zip codes as our primary dataset. In the first part of this workshop, we will cover mapping basics, including geojson, two dimensional and three dimensional choropleths using MapboxGL in JupyterLab. In the second part of the workshop, we will cover how to process data to generate the choropleths, including file formats, spatial reference systems, table joins and color stops. In the third part of the workshop, we will cover how to create dynamic choropleths using pydeck and choropleth images using the Python Imaging Library. At the end, we show example choropleths in reports and dashboards made using the open source CrossCompute Analytics Automation Framework.\n",
    "\n",
    "- Toy Choropleths (10 minutes)\n",
    "- Break (5 minutes)\n",
    "- Real Choropleths (20 minutes)\n",
    "- Break (5 minutes)\n",
    "- Dynamic Choropleths (10 minutes)\n",
    "- Report and Dashboard Examples (5 minutes)"
   ]
  },
  {
   "cell_type": "code",
   "execution_count": null,
   "metadata": {},
   "outputs": [],
   "source": [
    "# Select this code block and press SHIFT ENTER\n",
    "# Keep pressing SHIFT ENTER until you reach the end of this notebook\n",
    "1 + 1"
   ]
  },
  {
   "cell_type": "markdown",
   "metadata": {},
   "source": [
    "## Install Packages"
   ]
  },
  {
   "cell_type": "code",
   "execution_count": null,
   "metadata": {
    "tags": []
   },
   "outputs": [],
   "source": [
    "pip install mapboxgl pandas pydeck --user"
   ]
  },
  {
   "cell_type": "markdown",
   "metadata": {},
   "source": [
    "You may need to restart the kernel by pressing ESC 0 0 (Escape Zero Zero) if the previous command updates existing packages."
   ]
  },
  {
   "cell_type": "markdown",
   "metadata": {},
   "source": [
    "## Configure Tokens and Keys\n",
    "\n",
    "You will need a Mapbox token and Google key to run the exercises.\n",
    "\n",
    "- Avoid saving tokens in your code if you do not want your code to break when tokens expire.\n",
    "- Avoid saving tokens in your version control system if you do not want to share your tokens with others.\n",
    "- Set your tokens using environment variables if you want your code to be easier to maintain when tokens change.\n",
    "\n",
    "**Do Now**\n",
    "\n",
    "1. [Get your own Mapbox token](https://www.mapbox.com).\n",
    "2. [Get your own Google key and enable the Geocoding API](https://developers.google.com/maps/documentation/geocoding/get-api-key).\n",
    "3. Set your tokens in each notebook by replacing `YOUR-MAPBOX-TOKEN` or `YOUR-GOOGLE-KEY`."
   ]
  },
  {
   "cell_type": "code",
   "execution_count": null,
   "metadata": {},
   "outputs": [],
   "source": [
    "from os import getenv\n",
    "MAPBOX_TOKEN = getenv('MAPBOX_TOKEN', 'YOUR-MAPBOX-TOKEN')\n",
    "# TODO: Configure environment variables using dialog"
   ]
  },
  {
   "cell_type": "markdown",
   "metadata": {},
   "source": [
    "## Test Packages"
   ]
  },
  {
   "cell_type": "code",
   "execution_count": null,
   "metadata": {},
   "outputs": [],
   "source": [
    "# https://github.com/mapbox/mapboxgl-jupyter/blob/master/examples/notebooks/choropleth-viz-example.ipynb\n",
    "from mapboxgl.utils import create_color_stops, create_numeric_stops\n",
    "from mapboxgl.viz import ChoroplethViz\n",
    "\n",
    "v = ChoroplethViz(\n",
    "    'https://raw.githubusercontent.com/mapbox/mapboxgl-jupyter/master/examples/data/us-states.geojson', \n",
    "    access_token=MAPBOX_TOKEN,\n",
    "    color_property='density',\n",
    "    color_stops=create_color_stops([0, 50, 100, 500, 1500], colors='YlOrRd'),\n",
    "    color_function_type='interpolate',\n",
    "    line_stroke='--',\n",
    "    line_color='rgb(128,0,38)',\n",
    "    line_width=1,\n",
    "    line_opacity=0.9,\n",
    "    opacity=0.8,\n",
    "    center=(-96, 37.8),\n",
    "    zoom=3,\n",
    "    below_layer='waterway-label',\n",
    "    legend_layout='horizontal',\n",
    "    legend_key_shape='bar',\n",
    "    legend_key_borders_on=False)\n",
    "v.bearing = -15\n",
    "v.pitch = 45\n",
    "v.height_property = 'density'\n",
    "v.height_stops = create_numeric_stops([0, 50, 100, 500, 1500, 5000], 0, 500000)\n",
    "v.height_function_type = 'interpolate'\n",
    "v.add_snapshot_links = True\n",
    "v.show()"
   ]
  },
  {
   "cell_type": "code",
   "execution_count": null,
   "metadata": {},
   "outputs": [],
   "source": [
    "# https://deckgl.readthedocs.io/en/latest/gallery/screengrid_layer.html\n",
    "import pandas as pd\n",
    "import pydeck as pdk\n",
    "\n",
    "df = pd.read_json('https://raw.githubusercontent.com/visgl/deck.gl-data/master/website/sf-bike-parking.json')\n",
    "layer = pdk.Layer(\n",
    "    'ScreenGridLayer',\n",
    "    df,\n",
    "    pickable=False,\n",
    "    opacity=0.8,\n",
    "    cell_size_pixels=50,\n",
    "    color_range=[\n",
    "        [0, 25, 0, 25],\n",
    "        [0, 85, 0, 85],\n",
    "        [0, 127, 0, 127],\n",
    "        [0, 170, 0, 170],\n",
    "        [0, 190, 0, 190],\n",
    "        [0, 255, 0, 255],\n",
    "    ],\n",
    "    get_position='COORDINATES',\n",
    "    get_weight='SPACES')\n",
    "view_state = pdk.ViewState(latitude=37.7749295, longitude=-122.4194155, zoom=11, bearing=0, pitch=0)\n",
    "r = pdk.Deck(layers=[layer], initial_view_state=view_state)\n",
    "r.to_html()"
   ]
  }
 ],
 "metadata": {
  "kernelspec": {
   "display_name": "Python 3",
   "language": "python",
   "name": "python3"
  },
  "language_info": {
   "codemirror_mode": {
    "name": "ipython",
    "version": 3
   },
   "file_extension": ".py",
   "mimetype": "text/x-python",
   "name": "python",
   "nbconvert_exporter": "python",
   "pygments_lexer": "ipython3",
   "version": "3.8.10"
  }
 },
 "nbformat": 4,
 "nbformat_minor": 4
}
