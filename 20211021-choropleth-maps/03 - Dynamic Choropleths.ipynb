{
 "cells": [
  {
   "cell_type": "markdown",
   "metadata": {},
   "source": [
    "# Dynamic Choropleths"
   ]
  },
  {
   "cell_type": "markdown",
   "metadata": {},
   "source": [
    "In the third part of the workshop, we will cover how to create dynamic choropleths using pydeck and choropleth images using the Python Imaging Library."
   ]
  },
  {
   "cell_type": "code",
   "execution_count": null,
   "metadata": {},
   "outputs": [],
   "source": [
    "pip install pydeck --user"
   ]
  },
  {
   "cell_type": "markdown",
   "metadata": {},
   "source": [
    "## Dynamic Choropleths"
   ]
  },
  {
   "cell_type": "code",
   "execution_count": null,
   "metadata": {},
   "outputs": [],
   "source": [
    "import pandas as pd\n",
    "from macros.cache import cache_download\n",
    "\n",
    "url = 'https://data.cityofnewyork.us/api/views/gpwd-npar/rows.csv'\n",
    "nyc_graffiti_table = pd.read_csv(cache_download(url))\n",
    "len(nyc_graffiti_table)"
   ]
  },
  {
   "cell_type": "code",
   "execution_count": null,
   "metadata": {},
   "outputs": [],
   "source": [
    "nyc_graffiti_table = nyc_graffiti_table[['LATITUDE', 'LONGITUDE', 'STATUS']]\n",
    "nyc_graffiti_table.dropna(inplace=True)\n",
    "nyc_graffiti_table.iloc[0]"
   ]
  },
  {
   "cell_type": "code",
   "execution_count": null,
   "metadata": {},
   "outputs": [],
   "source": [
    "nyc_graffiti_table['STATUS'].unique()"
   ]
  },
  {
   "cell_type": "code",
   "execution_count": null,
   "metadata": {},
   "outputs": [],
   "source": [
    "def get_coordinates(row):\n",
    "    return [\n",
    "        row['LONGITUDE'],\n",
    "        row['LATITUDE'],\n",
    "    ]\n",
    "\n",
    "nyc_graffiti_table['COORDINATES'] = nyc_graffiti_table.apply(\n",
    "    get_coordinates, axis=1)"
   ]
  },
  {
   "cell_type": "code",
   "execution_count": null,
   "metadata": {},
   "outputs": [],
   "source": [
    "def get_status_weight(row):\n",
    "    return {\n",
    "        'Closed': 1,\n",
    "        'Pending': 2,\n",
    "        'Open': 3,\n",
    "    }[row['STATUS']]\n",
    "\n",
    "nyc_graffiti_table['STATUS_WEIGHT'] = nyc_graffiti_table.apply(\n",
    "    get_status_weight, axis=1)"
   ]
  },
  {
   "cell_type": "code",
   "execution_count": null,
   "metadata": {},
   "outputs": [],
   "source": [
    "nyc_graffiti_table.iloc[0]"
   ]
  },
  {
   "cell_type": "code",
   "execution_count": null,
   "metadata": {},
   "outputs": [],
   "source": [
    "nyc_graffiti_table[:2]"
   ]
  },
  {
   "cell_type": "code",
   "execution_count": null,
   "metadata": {},
   "outputs": [],
   "source": [
    "nyc_graffiti_table.LATITUDE.mean()"
   ]
  },
  {
   "cell_type": "code",
   "execution_count": null,
   "metadata": {},
   "outputs": [],
   "source": [
    "import pandas as pd\n",
    "import pydeck as pdk"
   ]
  },
  {
   "cell_type": "code",
   "execution_count": null,
   "metadata": {},
   "outputs": [],
   "source": [
    "# Define a layer to display on a map\n",
    "layer = pdk.Layer(\n",
    "    'ScreenGridLayer',\n",
    "    nyc_graffiti_table,\n",
    "    pickable=False,\n",
    "    opacity=0.8,\n",
    "    cell_size_pixels=50,\n",
    "    color_range=[\n",
    "        [0, 0, 25, 25],\n",
    "        [0, 0, 85, 85],\n",
    "        [0, 0, 127, 127],\n",
    "        [0, 0, 170, 170],\n",
    "        [0, 0, 190, 190],\n",
    "        [0, 0, 255, 255],\n",
    "    ],\n",
    "    get_position='COORDINATES',\n",
    "    get_weight='STATUS_WEIGHT',\n",
    ")\n",
    "\n",
    "# Set the viewport location\n",
    "view_state = pdk.ViewState(\n",
    "    latitude=nyc_graffiti_table.LATITUDE.mean(),\n",
    "    longitude=nyc_graffiti_table.LONGITUDE.mean(),\n",
    "    zoom=11, bearing=0, pitch=0)\n",
    "\n",
    "# Render\n",
    "r = pdk.Deck(layers=[layer], initial_view_state=view_state)\n",
    "r.to_html()"
   ]
  },
  {
   "cell_type": "markdown",
   "metadata": {},
   "source": [
    "## Choropleth Images"
   ]
  },
  {
   "cell_type": "code",
   "execution_count": null,
   "metadata": {},
   "outputs": [],
   "source": [
    "# TODO: Explain how to make a template SVG image\n",
    "# TODO: Explain how to replace colors in SVG image\n",
    "# TODO: Explain how to replace colors in PNG image"
   ]
  }
 ],
 "metadata": {
  "kernelspec": {
   "display_name": "Python 3",
   "language": "python",
   "name": "python3"
  },
  "language_info": {
   "codemirror_mode": {
    "name": "ipython",
    "version": 3
   },
   "file_extension": ".py",
   "mimetype": "text/x-python",
   "name": "python",
   "nbconvert_exporter": "python",
   "pygments_lexer": "ipython3",
   "version": "3.8.10"
  }
 },
 "nbformat": 4,
 "nbformat_minor": 4
}
