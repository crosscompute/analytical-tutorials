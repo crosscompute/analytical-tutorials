{
 "cells": [
  {
   "cell_type": "markdown",
   "metadata": {},
   "source": [
    "# Real Choropleths from Zip Codes with GeoTable"
   ]
  },
  {
   "cell_type": "markdown",
   "metadata": {},
   "source": [
    "In the second part of the workshop, we will cover how to process data to generate the choropleths, including file formats, spatial reference systems, table joins and color stops.\n",
    "\n",
    "We will use the following datasets, courtesy of [NYC Open Data](https://data.cityofnewyork.us).\n",
    "\n",
    "- [NYC Zip Code Boundaries](https://data.cityofnewyork.us/Business/Zip-Code-Boundaries/i8iw-xf4u)\n",
    "\n",
    "For more 2D spatial data, please see [NYC DoITT 2D Data](https://www1.nyc.gov/site/doitt/residents/gis-2d-data.page)."
   ]
  },
  {
   "cell_type": "code",
   "execution_count": null,
   "metadata": {},
   "outputs": [],
   "source": [
    "pip install geotable --upgrade"
   ]
  },
  {
   "cell_type": "markdown",
   "metadata": {},
   "source": [
    "## File Formats\n",
    "\n",
    "Standard file formats for geospatial data include geojson, shapefile, kml and kmz."
   ]
  },
  {
   "cell_type": "markdown",
   "metadata": {},
   "source": [
    "### Exercise: Determine File Format\n",
    "\n",
    "1. Visit [NYC Police Precincts](https://data.cityofnewyork.us/Public-Safety/Police-Precincts/78dh-3ptz).\n",
    "2. Click the Export tab and download each of the geospatial file formats.\n",
    "3. Note the file extension and file size for each file format. \n",
    "4. Visit [NYC Zip Code Boundaries](https://data.cityofnewyork.us/Business/Zip-Code-Boundaries/i8iw-xf4u).\n",
    "5. Download the file and examine its contents to determine its file format."
   ]
  },
  {
   "cell_type": "code",
   "execution_count": null,
   "metadata": {},
   "outputs": [],
   "source": [
    "# Load NYC zip codes via URL using geotable\n",
    "import geotable\n",
    "url = 'https://data.cityofnewyork.us/download/i8iw-xf4u/application%2Fzip'\n",
    "t = raw_nyc_zip_code_table = geotable.load(url)\n",
    "len(t)"
   ]
  },
  {
   "cell_type": "code",
   "execution_count": null,
   "metadata": {},
   "outputs": [],
   "source": [
    "# Show the first two rows\n",
    "t[:2]"
   ]
  },
  {
   "cell_type": "code",
   "execution_count": null,
   "metadata": {},
   "outputs": [],
   "source": [
    "# Render geometries\n",
    "t.draw()"
   ]
  },
  {
   "cell_type": "code",
   "execution_count": null,
   "metadata": {},
   "outputs": [],
   "source": [
    "# Render each geometry with a random color\n",
    "from geotable import ColorfulGeometryCollection\n",
    "ColorfulGeometryCollection(t.geometries)"
   ]
  },
  {
   "cell_type": "code",
   "execution_count": null,
   "metadata": {},
   "outputs": [],
   "source": [
    "from os.path import join\n",
    "\n",
    "datasets_folder = 'datasets'\n",
    "# Save as a geojson\n",
    "t.save_geojson(join(datasets_folder, 'raw-nyc-zip-codes.geojson'))"
   ]
  },
  {
   "cell_type": "code",
   "execution_count": null,
   "metadata": {},
   "outputs": [],
   "source": [
    "ls $datasets_folder -lh"
   ]
  },
  {
   "cell_type": "code",
   "execution_count": null,
   "metadata": {},
   "outputs": [],
   "source": [
    "# Save as a geojson using the longitude latitude coordinate system\n",
    "t.save_geojson(join(\n",
    "    datasets_folder, 'nyc-zip-codes.geojson',\n",
    "), target_proj4=geotable.LONGITUDE_LATITUDE_PROJ4)\n",
    "\n",
    "# Save as a shapefile using the longitude latitude coordinate system\n",
    "t.save_shp(join(\n",
    "    datasets_folder, 'nyc-zip-codes.shp.zip',\n",
    "), target_proj4=geotable.LONGITUDE_LATITUDE_PROJ4)\n",
    "\n",
    "# Save as a kmz using the longitude latitude coordinate system\n",
    "t.save_kmz(join(\n",
    "    datasets_folder, 'nyc-zip-codes.kmz',\n",
    "), target_proj4=geotable.LONGITUDE_LATITUDE_PROJ4)\n",
    "\n",
    "# Save as a csv using the longitude latitude coordinate system\n",
    "t.save_csv(join(\n",
    "    datasets_folder, 'nyc-zip-codes.csv',\n",
    "), target_proj4=geotable.LONGITUDE_LATITUDE_PROJ4)"
   ]
  },
  {
   "cell_type": "code",
   "execution_count": null,
   "metadata": {},
   "outputs": [],
   "source": [
    "ls $datasets_folder/*.geojson -lh"
   ]
  },
  {
   "cell_type": "code",
   "execution_count": null,
   "metadata": {},
   "outputs": [],
   "source": [
    "ls $datasets_folder -lh"
   ]
  },
  {
   "cell_type": "code",
   "execution_count": null,
   "metadata": {},
   "outputs": [],
   "source": [
    "# Load geojson\n",
    "t = geotable.load(join(datasets_folder, 'nyc-zip-codes.geojson'))\n",
    "t[:2]"
   ]
  },
  {
   "cell_type": "code",
   "execution_count": null,
   "metadata": {},
   "outputs": [],
   "source": [
    "# Load kmz\n",
    "t = geotable.load(join(datasets_folder, 'nyc-zip-codes.kmz'))\n",
    "t[:2]"
   ]
  },
  {
   "cell_type": "code",
   "execution_count": null,
   "metadata": {},
   "outputs": [],
   "source": [
    "t['POPULATION'].describe()"
   ]
  },
  {
   "cell_type": "code",
   "execution_count": null,
   "metadata": {},
   "outputs": [],
   "source": [
    "from shapely.geometry import GeometryCollection\n",
    "GeometryCollection(t.geometries).centroid.coords[0]"
   ]
  },
  {
   "cell_type": "code",
   "execution_count": null,
   "metadata": {},
   "outputs": [],
   "source": [
    "import json\n",
    "d = json.load(open('nyc-zip-codes.geojson', 'rt'))"
   ]
  },
  {
   "cell_type": "code",
   "execution_count": null,
   "metadata": {},
   "outputs": [],
   "source": [
    "d.keys()"
   ]
  },
  {
   "cell_type": "code",
   "execution_count": null,
   "metadata": {},
   "outputs": [],
   "source": [
    "d['features'][0]['properties']"
   ]
  },
  {
   "cell_type": "code",
   "execution_count": null,
   "metadata": {},
   "outputs": [],
   "source": [
    "# Load geojson from shapely geometries"
   ]
  },
  {
   "cell_type": "code",
   "execution_count": null,
   "metadata": {},
   "outputs": [],
   "source": [
    "# Load shapely geometries from geojson\n",
    "from shapely.geometry import shape\n",
    "shape(d['features'][0]['geometry'])"
   ]
  },
  {
   "cell_type": "code",
   "execution_count": null,
   "metadata": {},
   "outputs": [],
   "source": [
    "from shapely.geometry import GeometryCollection\n",
    "collection = GeometryCollection([shape(_['geometry']) for _ in d['features']])\n",
    "collection.centroid.coords[0]"
   ]
  },
  {
   "cell_type": "code",
   "execution_count": null,
   "metadata": {},
   "outputs": [],
   "source": [
    "center_coordinates = collection.centroid.coords[0]\n",
    "center_coordinates"
   ]
  },
  {
   "cell_type": "code",
   "execution_count": null,
   "metadata": {},
   "outputs": [],
   "source": [
    "# Get geojson\n",
    "# Render geojson"
   ]
  },
  {
   "cell_type": "code",
   "execution_count": null,
   "metadata": {},
   "outputs": [],
   "source": [
    "from mapboxgl.utils import create_color_stops, create_numeric_stops\n",
    "from mapboxgl.viz import ChoroplethViz\n",
    "from os import getenv\n",
    "\n",
    "MAPBOX_TOKEN = getenv('MAPBOX_TOKEN', 'YOUR-MAPBOX-TOKEN')"
   ]
  },
  {
   "cell_type": "code",
   "execution_count": null,
   "metadata": {},
   "outputs": [],
   "source": [
    "v = ChoroplethViz(\n",
    "    d,\n",
    "    style='mapbox://styles/mapbox/dark-v10',    \n",
    "    access_token=MAPBOX_TOKEN,\n",
    "    color_property='POPULATION',\n",
    "    color_stops=create_color_stops([0, 49.5, 27985, 54445, 109069], colors='Greens'),\n",
    "    color_function_type='interpolate',\n",
    "    line_stroke='--',\n",
    "    line_color='Yellow',\n",
    "    line_width=1,\n",
    "    line_opacity=0.9,\n",
    "    opacity=0.8,\n",
    "    center=center_coordinates,\n",
    "    zoom=9,\n",
    "    below_layer='waterway-label',\n",
    "    legend_layout='horizontal',\n",
    "    legend_key_shape='bar',\n",
    "    legend_key_borders_on=False)\n",
    "v.show()"
   ]
  },
  {
   "cell_type": "code",
   "execution_count": null,
   "metadata": {},
   "outputs": [],
   "source": [
    "t[:3]"
   ]
  },
  {
   "cell_type": "code",
   "execution_count": null,
   "metadata": {},
   "outputs": [],
   "source": [
    "# load geojson\n",
    "# load shapefile\n",
    "# load kml\n",
    "# load kmz\n",
    "\n",
    "# transform shapefile -> geojson\n",
    "# transform kml -> geojson\n",
    "# transform kmz -> geojson"
   ]
  },
  {
   "cell_type": "code",
   "execution_count": null,
   "metadata": {},
   "outputs": [],
   "source": [
    "geojson\n",
    "shapefile\n",
    "kml\n",
    "how to transform between\n",
    "\n",
    "load zip code\n",
    "load bbl buildings"
   ]
  },
  {
   "cell_type": "markdown",
   "metadata": {},
   "source": [
    "## Spatial Reference Systems"
   ]
  },
  {
   "cell_type": "code",
   "execution_count": null,
   "metadata": {},
   "outputs": [],
   "source": [
    "t = geotable.load('nyc-zip-codes.geojson')"
   ]
  },
  {
   "cell_type": "code",
   "execution_count": null,
   "metadata": {},
   "outputs": [],
   "source": [
    "t.geometry_proj4[0]"
   ]
  },
  {
   "cell_type": "code",
   "execution_count": null,
   "metadata": {},
   "outputs": [],
   "source": [
    "t[:2]"
   ]
  },
  {
   "cell_type": "code",
   "execution_count": null,
   "metadata": {},
   "outputs": [],
   "source": [
    "t = geotable.load('nyc-zip-codes.geojson', target_proj4=geotable.SPHERICAL_MERCATOR_PROJ4)\n",
    "t.geometry_proj4[0]"
   ]
  },
  {
   "cell_type": "code",
   "execution_count": null,
   "metadata": {},
   "outputs": [],
   "source": [
    "t[:2]"
   ]
  },
  {
   "cell_type": "code",
   "execution_count": null,
   "metadata": {},
   "outputs": [],
   "source": [
    "t = geotable.load('https://data.cityofnewyork.us/download/i8iw-xf4u/application%2Fzip')"
   ]
  },
  {
   "cell_type": "code",
   "execution_count": null,
   "metadata": {},
   "outputs": [],
   "source": [
    "# Load into longitude latitude spatial reference"
   ]
  },
  {
   "cell_type": "code",
   "execution_count": null,
   "metadata": {},
   "outputs": [],
   "source": [
    "t['geometry_proj4'][0]"
   ]
  },
  {
   "cell_type": "markdown",
   "metadata": {},
   "source": [
    "how to transform between"
   ]
  },
  {
   "cell_type": "code",
   "execution_count": null,
   "metadata": {},
   "outputs": [],
   "source": [
    "how to id which srs\n",
    "# compare geopy geocode with actual\n",
    "# get distance and rank\n",
    "# https://spatialreference.org"
   ]
  },
  {
   "cell_type": "markdown",
   "metadata": {},
   "source": [
    "## Table Joins"
   ]
  },
  {
   "cell_type": "code",
   "execution_count": null,
   "metadata": {},
   "outputs": [],
   "source": [
    "how to join"
   ]
  },
  {
   "cell_type": "code",
   "execution_count": null,
   "metadata": {},
   "outputs": [],
   "source": [
    "import pandas as pd"
   ]
  },
  {
   "cell_type": "code",
   "execution_count": null,
   "metadata": {},
   "outputs": [],
   "source": [
    "url = 'https://data.cityofnewyork.us/api/views/kku6-nxdu/rows.csv'\n",
    "statistics_table = pd.read_csv(url, dtype=str)"
   ]
  },
  {
   "cell_type": "code",
   "execution_count": null,
   "metadata": {},
   "outputs": [],
   "source": [
    "len(statistics_table)"
   ]
  },
  {
   "cell_type": "code",
   "execution_count": null,
   "metadata": {},
   "outputs": [],
   "source": [
    "statistics_table.iloc[0]"
   ]
  },
  {
   "cell_type": "code",
   "execution_count": null,
   "metadata": {},
   "outputs": [],
   "source": [
    "t.iloc[0]"
   ]
  },
  {
   "cell_type": "code",
   "execution_count": null,
   "metadata": {},
   "outputs": [],
   "source": [
    "joined_t = pd.merge(t, statistics_table, left_on='ZIPCODE', right_on='JURISDICTION NAME')"
   ]
  },
  {
   "cell_type": "code",
   "execution_count": null,
   "metadata": {},
   "outputs": [],
   "source": [
    "dict(joined_t.iloc[0])"
   ]
  },
  {
   "cell_type": "markdown",
   "metadata": {},
   "source": [
    "## Color Stops"
   ]
  },
  {
   "cell_type": "code",
   "execution_count": null,
   "metadata": {},
   "outputs": [],
   "source": [
    "how to determine color stop max min and in betweens"
   ]
  },
  {
   "cell_type": "code",
   "execution_count": null,
   "metadata": {},
   "outputs": [],
   "source": [
    "use describe"
   ]
  }
 ],
 "metadata": {
  "kernelspec": {
   "display_name": "Python 3",
   "language": "python",
   "name": "python3"
  },
  "language_info": {
   "codemirror_mode": {
    "name": "ipython",
    "version": 3
   },
   "file_extension": ".py",
   "mimetype": "text/x-python",
   "name": "python",
   "nbconvert_exporter": "python",
   "pygments_lexer": "ipython3",
   "version": "3.8.10"
  }
 },
 "nbformat": 4,
 "nbformat_minor": 4
}
