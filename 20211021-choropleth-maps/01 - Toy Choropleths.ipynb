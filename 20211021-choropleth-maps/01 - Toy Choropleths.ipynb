{
 "cells": [
  {
   "cell_type": "markdown",
   "metadata": {},
   "source": [
    "# Toy Choropleths"
   ]
  },
  {
   "cell_type": "markdown",
   "metadata": {},
   "source": [
    "In the first part of this workshop, we will cover mapping basics, including geojson, two dimensional and three dimensional choropleths using MapboxGL in JupyterLab."
   ]
  },
  {
   "cell_type": "code",
   "execution_count": null,
   "metadata": {},
   "outputs": [],
   "source": [
    "from mapboxgl.utils import create_color_stops, create_numeric_stops\n",
    "from mapboxgl.viz import ChoroplethViz\n",
    "from os import getenv\n",
    "\n",
    "MAPBOX_TOKEN = getenv('MAPBOX_TOKEN', 'YOUR-MAPBOX-TOKEN')\n",
    "GOOGLE_KEY = getenv('GOOGLE_KEY', 'YOUR-GOOGLE-KEY')"
   ]
  },
  {
   "cell_type": "markdown",
   "metadata": {},
   "source": [
    "## GeoJSON"
   ]
  },
  {
   "cell_type": "code",
   "execution_count": null,
   "metadata": {},
   "outputs": [],
   "source": [
    "# from geopy import GoogleV3\n",
    "# geocode = GoogleV3(GOOGLE_KEY).geocode\n",
    "# location = geocode('Saint Petersburg, FL')\n",
    "# location.longitude, location.latitude"
   ]
  },
  {
   "cell_type": "code",
   "execution_count": null,
   "metadata": {},
   "outputs": [],
   "source": [
    "saint_petersburg_fl_coordinates = -82.64029149999999, 27.7676008\n",
    "pompano_beach_fl_coordinates = -80.1247667, 26.2378597\n",
    "orlando_fl_coordinates = -81.3789269, 28.5383832\n",
    "jacksonville_fl_coordinates = -81.65565099999999, 30.3321838\n",
    "tallahassee_fl_coordinates = -84.28073289999999, 30.4382559"
   ]
  },
  {
   "cell_type": "code",
   "execution_count": null,
   "metadata": {},
   "outputs": [],
   "source": [
    "d = {\n",
    "    'type': 'FeatureCollection',\n",
    "    'features': [{\n",
    "        'id': 'a',\n",
    "        'type': 'Feature',\n",
    "        'properties': {'name': 'A', 'value1': 5, 'value2': 10},\n",
    "        'geometry': {'type': 'Polygon', 'coordinates': [[\n",
    "            tallahassee_fl_coordinates,\n",
    "            jacksonville_fl_coordinates,\n",
    "            orlando_fl_coordinates,\n",
    "        ]]},\n",
    "    }, {\n",
    "        'id': 'b',\n",
    "        'type': 'Feature',\n",
    "        'properties': {'name': 'B', 'value1': 10, 'value2': 5},\n",
    "        'geometry': {'type': 'Polygon', 'coordinates': [[\n",
    "            orlando_fl_coordinates,\n",
    "            saint_petersburg_fl_coordinates,\n",
    "            pompano_beach_fl_coordinates,\n",
    "        ]]},\n",
    "    }],\n",
    "}\n",
    "d"
   ]
  },
  {
   "cell_type": "code",
   "execution_count": null,
   "metadata": {},
   "outputs": [],
   "source": [
    "v = ChoroplethViz(\n",
    "    d,\n",
    "    access_token=MAPBOX_TOKEN,\n",
    "    color_property='value1',\n",
    "    color_stops=create_color_stops([0, 5, 10], colors='Greens'),\n",
    "    center=orlando_fl_coordinates,\n",
    "    zoom=5,\n",
    "    below_layer='waterway-label')\n",
    "v.show()"
   ]
  },
  {
   "cell_type": "markdown",
   "metadata": {},
   "source": [
    "### Exercise: Experiment with GeoJSON\n",
    "\n",
    "1. Set `value1=9` for feature `id=a`.\n",
    "2. Set `value1=4` for feature `id=b`.\n",
    "3. Add a third feature polygon with Tallahassee, Orlando and Saint Petersburg as corners."
   ]
  },
  {
   "cell_type": "code",
   "execution_count": null,
   "metadata": {},
   "outputs": [],
   "source": [
    "d = {\n",
    "    'type': 'FeatureCollection',\n",
    "    'features': [{\n",
    "        'id': 'a',\n",
    "        'type': 'Feature',\n",
    "        'properties': {'name': 'A', 'value1': 5, 'value2': 10},\n",
    "        'geometry': {'type': 'Polygon', 'coordinates': [[\n",
    "            tallahassee_fl_coordinates,\n",
    "            jacksonville_fl_coordinates,\n",
    "            orlando_fl_coordinates,\n",
    "        ]]},\n",
    "    }, {\n",
    "        'id': 'b',\n",
    "        'type': 'Feature',\n",
    "        'properties': {'name': 'B', 'value1': 10, 'value2': 5},\n",
    "        'geometry': {'type': 'Polygon', 'coordinates': [[\n",
    "            orlando_fl_coordinates,\n",
    "            saint_petersburg_fl_coordinates,\n",
    "            pompano_beach_fl_coordinates,\n",
    "        ]]},\n",
    "    }],\n",
    "}\n",
    "v = ChoroplethViz(\n",
    "    d,\n",
    "    style='mapbox://styles/mapbox/dark-v10',\n",
    "    access_token=MAPBOX_TOKEN,\n",
    "    color_property='value1',\n",
    "    color_stops=create_color_stops([0, 5, 10], colors='Greens'),\n",
    "    center=orlando_fl_coordinates,\n",
    "    zoom=5,\n",
    "    below_layer='waterway-label')\n",
    "v.show()"
   ]
  },
  {
   "cell_type": "markdown",
   "metadata": {},
   "source": [
    "### Exercise: Interact with the map\n",
    "\n",
    "1. Drag the map with your mouse.\n",
    "2. Zoom with your mouse wheel.\n",
    "3. Drag the compass (at the upper right) with your mouse.\n",
    "4. Hold CTRL and drag the map.\n",
    "5. Hold ALT and drag the map.\n",
    "6. Hold SHIFT and drag the map.\n",
    "7. Zoom in and hover over a polygon with your mouse.\n",
    "8. Drag the map with your other mouse button (left or right)."
   ]
  },
  {
   "cell_type": "markdown",
   "metadata": {},
   "source": [
    "### Exercise: Change the map style\n",
    "\n",
    "1. Set `style='mapbox://styles/mapbox/streets-v11'`.\n",
    "2. Set `style='mapbox://styles/mapbox/satellite-v9'`.\n",
    "3. Comment out `below_layer` by prefixing `#`.\n",
    "4. Choose another style from https://docs.mapbox.com/api/maps/styles/#mapbox-styles."
   ]
  },
  {
   "cell_type": "code",
   "execution_count": null,
   "metadata": {},
   "outputs": [],
   "source": [
    "v = ChoroplethViz(\n",
    "    d,\n",
    "    style='mapbox://styles/mapbox/dark-v10',\n",
    "    access_token=MAPBOX_TOKEN,\n",
    "    color_property='value1',\n",
    "    color_stops=create_color_stops([0, 5, 10], colors='Greens'),\n",
    "    center=orlando_fl_coordinates,\n",
    "    zoom=5,\n",
    "    below_layer='waterway-label')\n",
    "v.show()"
   ]
  },
  {
   "cell_type": "markdown",
   "metadata": {},
   "source": [
    "## 2D Choropleths"
   ]
  },
  {
   "cell_type": "code",
   "execution_count": null,
   "metadata": {},
   "outputs": [],
   "source": [
    "v = ChoroplethViz(\n",
    "    d,\n",
    "    style='mapbox://styles/mapbox/dark-v10',    \n",
    "    access_token=MAPBOX_TOKEN,\n",
    "    color_property='value1',\n",
    "    color_stops=create_color_stops([0, 5, 10], colors='Greens'),\n",
    "    color_function_type='interpolate',\n",
    "    line_stroke='--',\n",
    "    line_color='Red',\n",
    "    line_width=3,\n",
    "    line_opacity=0.9,\n",
    "    opacity=0.8,\n",
    "    center=orlando_fl_coordinates,\n",
    "    zoom=5,\n",
    "    below_layer='waterway-label',\n",
    "    legend_layout='horizontal',\n",
    "    legend_key_shape='bar',\n",
    "    legend_key_borders_on=False)\n",
    "v.show()"
   ]
  },
  {
   "cell_type": "markdown",
   "metadata": {},
   "source": [
    "### Exercise: Experiment with 2D Choropleths\n",
    "1. Replace `colors=Greens` with `colors=Reds` or `colors=Spectral`.\n",
    "2. Choose a different color map from https://colorbrewer2.org.\n",
    "3. Set `line_stroke=-`.\n",
    "4. Set `line_color=Purple`.\n",
    "5. Set `line_width=7`.\n",
    "6. Set `opacity=0.5`.\n",
    "7. Set `center=pompano_beach_fl_coordinates`.\n",
    "8. Set `zoom=3`.\n",
    "9. Comment out `below_layer` by prefixing `#`.\n",
    "10. Comment out `legend_layout` by prefixing `#`."
   ]
  },
  {
   "cell_type": "code",
   "execution_count": null,
   "metadata": {},
   "outputs": [],
   "source": [
    "v = ChoroplethViz(\n",
    "    d,\n",
    "    access_token=MAPBOX_TOKEN,\n",
    "    color_property='value1',\n",
    "    color_stops=create_color_stops([0, 5, 10], colors='Greens'),\n",
    "    color_function_type='interpolate',\n",
    "    line_stroke='--',\n",
    "    line_color='Red',\n",
    "    line_width=3,\n",
    "    line_opacity=0.9,\n",
    "    opacity=0.8,\n",
    "    center=orlando_fl_coordinates,\n",
    "    zoom=5,\n",
    "    below_layer='waterway-label',\n",
    "    legend_layout='horizontal',\n",
    "    legend_key_shape='bar',\n",
    "    legend_key_borders_on=False)\n",
    "v.show()"
   ]
  },
  {
   "cell_type": "markdown",
   "metadata": {},
   "source": [
    "## 3D Choropleths"
   ]
  },
  {
   "cell_type": "code",
   "execution_count": null,
   "metadata": {},
   "outputs": [],
   "source": [
    "v.bearing = 30\n",
    "v.pitch = 30\n",
    "v.height_property = 'value2'\n",
    "v.height_stops = create_numeric_stops([0, 5, 10], 0, 200000)\n",
    "v.height_function_type = 'interpolate'\n",
    "v.show()"
   ]
  },
  {
   "cell_type": "markdown",
   "metadata": {},
   "source": [
    "### Exercise: Experiment with 3D Choropleths\n",
    "\n",
    "1. Set `bearing = 180`.\n",
    "2. Set `pitch = 60`.\n",
    "3. Set `height_property = 'value2'`\n",
    "4. Change `height_stops` maximum height from `200000` to `500000`."
   ]
  },
  {
   "cell_type": "markdown",
   "metadata": {},
   "source": [
    "# TODO: Cover how to save image"
   ]
  },
  {
   "cell_type": "markdown",
   "metadata": {},
   "source": []
  }
 ],
 "metadata": {
  "kernelspec": {
   "display_name": "Python 3",
   "language": "python",
   "name": "python3"
  },
  "language_info": {
   "codemirror_mode": {
    "name": "ipython",
    "version": 3
   },
   "file_extension": ".py",
   "mimetype": "text/x-python",
   "name": "python",
   "nbconvert_exporter": "python",
   "pygments_lexer": "ipython3",
   "version": "3.9.7"
  }
 },
 "nbformat": 4,
 "nbformat_minor": 4
}
