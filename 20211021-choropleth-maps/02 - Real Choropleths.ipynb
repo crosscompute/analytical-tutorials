{
 "cells": [
  {
   "cell_type": "markdown",
   "metadata": {},
   "source": [
    "# Real Choropleths"
   ]
  },
  {
   "cell_type": "markdown",
   "metadata": {},
   "source": [
    "In the second part of the workshop, we will cover how to process data to generate the choropleths, including file formats, spatial reference systems, table joins and color stops.\n",
    "\n",
    "We will use the following datasets, courtesy of [NYC Open Data](https://data.cityofnewyork.us).\n",
    "\n",
    "- [NYC Zip Code Boundaries](https://data.cityofnewyork.us/Business/Zip-Code-Boundaries/i8iw-xf4u)\n",
    "- [DSNY Graffiti Trafficking](https://data.cityofnewyork.us/City-Government/DSNY-Graffiti-Tracking/gpwd-npar)\n",
    "\n",
    "For more 2D spatial data, please see [NYC DoITT 2D Data](https://www1.nyc.gov/site/doitt/residents/gis-2d-data.page).\n",
    "\n",
    "There are now several packages you can use to process spatial vector and raster data:\n",
    "\n",
    "- [fiona](https://fiona.readthedocs.io)\n",
    "- [geopandas](https://geopandas.readthedocs.io)\n",
    "- [geotable](https://github.com/invisibleroads/geotable)\n",
    "- [rasterio](https://rasterio.readthedocs.io)\n",
    "\n",
    "TODO: Work on variations of this notebook with different packages"
   ]
  },
  {
   "cell_type": "code",
   "execution_count": null,
   "metadata": {},
   "outputs": [],
   "source": [
    "pip install geotable --user"
   ]
  },
  {
   "cell_type": "code",
   "execution_count": null,
   "metadata": {},
   "outputs": [],
   "source": [
    "from os import makedirs\n",
    "\n",
    "datasets_folder = 'datasets'\n",
    "try:\n",
    "    makedirs(datasets_folder)\n",
    "except OSError:\n",
    "    pass"
   ]
  },
  {
   "cell_type": "code",
   "execution_count": null,
   "metadata": {},
   "outputs": [],
   "source": [
    "rm $datasets_folder/*"
   ]
  },
  {
   "cell_type": "markdown",
   "metadata": {},
   "source": [
    "## File Formats\n",
    "\n",
    "Standard file formats for geospatial data include geojson, shapefile, kml and kmz."
   ]
  },
  {
   "cell_type": "markdown",
   "metadata": {},
   "source": [
    "### Exercise: Determine File Format\n",
    "\n",
    "1. Visit [NYC Police Precincts](https://data.cityofnewyork.us/Public-Safety/Police-Precincts/78dh-3ptz).\n",
    "2. Click the Export tab and download each of the geospatial file formats.\n",
    "3. Note the file extension and file size for each file format. \n",
    "4. Visit [NYC Zip Code Boundaries](https://data.cityofnewyork.us/Business/Zip-Code-Boundaries/i8iw-xf4u).\n",
    "5. Download the file and examine its contents to determine its file format."
   ]
  },
  {
   "cell_type": "code",
   "execution_count": null,
   "metadata": {},
   "outputs": [],
   "source": [
    "# Load NYC zip codes via URL using geotable\n",
    "import geotable\n",
    "url = 'https://data.cityofnewyork.us/download/i8iw-xf4u/application%2Fzip'\n",
    "t = raw_nyc_zip_code_table = geotable.load(url)\n",
    "len(t)"
   ]
  },
  {
   "cell_type": "code",
   "execution_count": null,
   "metadata": {},
   "outputs": [],
   "source": [
    "# Show the first two rows\n",
    "t[:2]"
   ]
  },
  {
   "cell_type": "code",
   "execution_count": null,
   "metadata": {},
   "outputs": [],
   "source": [
    "# Render geometries\n",
    "t.draw()"
   ]
  },
  {
   "cell_type": "code",
   "execution_count": null,
   "metadata": {},
   "outputs": [],
   "source": [
    "# Render each geometry with a random color\n",
    "from geotable import ColorfulGeometryCollection\n",
    "ColorfulGeometryCollection(t.geometries)"
   ]
  },
  {
   "cell_type": "code",
   "execution_count": null,
   "metadata": {},
   "outputs": [],
   "source": [
    "from os.path import join\n",
    "\n",
    "# Save as a geojson\n",
    "nyc_zip_codes_geojson_path = t.save_geojson(join(\n",
    "    datasets_folder, 'nyc-zip-codes.geojson'))\n",
    "\n",
    "# Save as a shapefile using the longitude latitude coordinate system\n",
    "t.save_shp(join(\n",
    "    datasets_folder, 'nyc-zip-codes.shp.zip',\n",
    "), target_proj4=geotable.LONGITUDE_LATITUDE_PROJ4)"
   ]
  },
  {
   "cell_type": "code",
   "execution_count": null,
   "metadata": {},
   "outputs": [],
   "source": [
    "ll $datasets_folder -h"
   ]
  },
  {
   "cell_type": "code",
   "execution_count": null,
   "metadata": {},
   "outputs": [],
   "source": [
    "raw_nyc_zip_code_table.iloc[0]"
   ]
  },
  {
   "cell_type": "code",
   "execution_count": null,
   "metadata": {},
   "outputs": [],
   "source": [
    "# Extract specific columns\n",
    "raw_nyc_zip_code_table = raw_nyc_zip_code_table[[\n",
    "    'ZIPCODE', 'POPULATION', 'AREA', 'geometry_object', 'geometry_proj4']]\n",
    "raw_nyc_zip_code_table.iloc[0]"
   ]
  },
  {
   "cell_type": "code",
   "execution_count": null,
   "metadata": {},
   "outputs": [],
   "source": [
    "# Get geojson so that we can plot choropleth\n",
    "import json\n",
    "d = json.load(open(nyc_zip_codes_geojson_path, 'rt'))"
   ]
  },
  {
   "cell_type": "code",
   "execution_count": null,
   "metadata": {},
   "outputs": [],
   "source": [
    "# Compute stops\n",
    "raw_nyc_zip_code_table['AREA'].describe()"
   ]
  },
  {
   "cell_type": "code",
   "execution_count": null,
   "metadata": {},
   "outputs": [],
   "source": [
    "area_stops = raw_nyc_zip_code_table['AREA'].describe()[3:].tolist()\n",
    "area_stops"
   ]
  },
  {
   "cell_type": "code",
   "execution_count": null,
   "metadata": {},
   "outputs": [],
   "source": [
    "from mapboxgl.utils import create_color_stops, create_numeric_stops\n",
    "from mapboxgl.viz import ChoroplethViz\n",
    "from os import getenv\n",
    "\n",
    "MAPBOX_TOKEN = getenv('MAPBOX_TOKEN', 'YOUR-MAPBOX-TOKEN')\n",
    "MAPBOX_TOKEN = 'pk.eyJ1IjoiY3Jvc3Njb21wdXRlIiwiYSI6ImNrczRwNTVuZTEzeG8ydXBrbjY4Ym1iaTcifQ.UidJO47zokdyOa2huvaWBA'\n",
    "\n",
    "v = ChoroplethViz(\n",
    "    d,\n",
    "    style='mapbox://styles/mapbox/dark-v10',    \n",
    "    access_token=MAPBOX_TOKEN,\n",
    "    color_property='AREA',\n",
    "    color_stops=create_color_stops(area_stops, colors='Greens'),\n",
    "    color_function_type='interpolate',\n",
    "    line_stroke='--',\n",
    "    line_color='Yellow',\n",
    "    line_width=1,\n",
    "    line_opacity=0.9,\n",
    "    opacity=0.8,\n",
    "    center=center_coordinates,\n",
    "    zoom=9,\n",
    "    below_layer='waterway-label',\n",
    "    legend_layout='horizontal',\n",
    "    legend_key_shape='bar',\n",
    "    legend_key_borders_on=False)\n",
    "v.show()"
   ]
  },
  {
   "cell_type": "markdown",
   "metadata": {},
   "source": [
    "### Spotlight: Reduce GeoJSON Size\n",
    "\n",
    "For huge datasets, there are a few strategies for reducing GeoJSON file size. Smaller GeoJSON files can speed your analysis and visualizations.\n",
    "\n",
    "1. Simplify geometries (see https://shapely.readthedocs.io/en/stable/manual.html#object.simplify).\n",
    "\n",
    "TODO: Add simplification notes\n",
    "\n",
    "2. Extract specific columns.\n",
    "\n",
    "```python\n",
    "raw_nyc_zip_code_table = raw_nyc_zip_code_table[[\n",
    "    'ZIPCODE', 'POPULATION', 'AREA', 'geometry_object', 'geometry_proj4']]\n",
    "```"
   ]
  },
  {
   "cell_type": "markdown",
   "metadata": {},
   "source": [
    "## Spatial Reference Systems\n",
    "\n",
    "A spatial reference system assigns coordinates to each location."
   ]
  },
  {
   "cell_type": "code",
   "execution_count": null,
   "metadata": {},
   "outputs": [],
   "source": [
    "# Load geojson as a table\n",
    "t = nyc_zip_code_table = geotable.load(join(datasets_folder, 'nyc-zip-codes.geojson'))\n",
    "t[:2]"
   ]
  },
  {
   "cell_type": "markdown",
   "metadata": {},
   "source": [
    "### Exercise: Explore Spatial Reference Systems\n",
    "\n",
    "1. Open https://spatialreference.org.\n",
    "2. Find the search box in the upper right corner.\n",
    "3. Enter New York and press ENTER.\n",
    "4. Click on a result such as https://spatialreference.org/ref/epsg/2263/.\n",
    "5. Click Proj4."
   ]
  },
  {
   "cell_type": "markdown",
   "metadata": {},
   "source": [
    "### Different Systems, Different Coordinates\n",
    "\n",
    "- Different spatial reference systems assign different coordinates to the same location.\n",
    "- A region such as New York has many options when choosing a spatial reference system.\n",
    "- Different spatial references systems serve different purposes.\n",
    "- Regional spatial references have greater accuracy and speed for distance calculations when all locations are within the prescribed region because we are assuming the surface is flat.\n",
    "- Global spatial references such as longitude latitude have greater accuracy for transregional distance calculations, but may require using a special function to calculate distances because we are assuming the surface is curved.\n",
    "- Some spatial references such as spherical mercator distort distances and areas because they are optimized for viewing the earth as a flat map."
   ]
  },
  {
   "cell_type": "code",
   "execution_count": null,
   "metadata": {},
   "outputs": [],
   "source": [
    "raw_nyc_zip_code_table[['ZIPCODE', 'geometry_object', 'geometry_proj4']][:2]"
   ]
  },
  {
   "cell_type": "code",
   "execution_count": null,
   "metadata": {},
   "outputs": [],
   "source": [
    "nyc_zip_code_table[['ZIPCODE', 'geometry_object', 'geometry_proj4']][:2]"
   ]
  },
  {
   "cell_type": "markdown",
   "metadata": {},
   "source": [
    "### Specifying Your Spatial Reference System Using PROJ\n",
    "\n",
    "There are many ways to specify which spatial reference system you are using to assign coordinates to your locations. Today, we will use a PROJ string to specify the spatial reference."
   ]
  },
  {
   "cell_type": "code",
   "execution_count": null,
   "metadata": {},
   "outputs": [],
   "source": [
    "# See one of the many spatial references for New York\n",
    "raw_nyc_zip_code_table['geometry_proj4'][0]"
   ]
  },
  {
   "cell_type": "code",
   "execution_count": null,
   "metadata": {},
   "outputs": [],
   "source": [
    "# See the longitude latitude spatial reference\n",
    "nyc_zip_code_table['geometry_proj4'][0]"
   ]
  },
  {
   "cell_type": "code",
   "execution_count": null,
   "metadata": {},
   "outputs": [],
   "source": [
    "geotable.projections.LONGITUDE_LATITUDE_PROJ4"
   ]
  },
  {
   "cell_type": "code",
   "execution_count": null,
   "metadata": {},
   "outputs": [],
   "source": [
    "geotable.projections.SPHERICAL_MERCATOR_PROJ4"
   ]
  },
  {
   "cell_type": "markdown",
   "metadata": {},
   "source": [
    "### Spotlight: Calculate Distances in Different Spherical Projections\n",
    "\n",
    "TODO: Mention different distance functions in geopy as well as google api"
   ]
  },
  {
   "cell_type": "markdown",
   "metadata": {},
   "source": [
    "### Spotlight: Compute Center Coordinates"
   ]
  },
  {
   "cell_type": "code",
   "execution_count": null,
   "metadata": {},
   "outputs": [],
   "source": [
    "# See center coordinates in original spatial reference\n",
    "from shapely.geometry import GeometryCollection\n",
    "GeometryCollection(t.geometries).centroid.coords[0]"
   ]
  },
  {
   "cell_type": "code",
   "execution_count": null,
   "metadata": {},
   "outputs": [],
   "source": [
    "import json\n",
    "d = json.load(open(nyc_zip_codes_geojson_path, 'rt'))\n",
    "d['features'][0]['properties']"
   ]
  },
  {
   "cell_type": "code",
   "execution_count": null,
   "metadata": {},
   "outputs": [],
   "source": [
    "# Load shapely geometries from geojson\n",
    "from shapely.geometry import shape\n",
    "shape(d['features'][0]['geometry'])"
   ]
  },
  {
   "cell_type": "code",
   "execution_count": null,
   "metadata": {},
   "outputs": [],
   "source": [
    "from shapely.geometry import GeometryCollection\n",
    "collection = GeometryCollection([shape(_['geometry']) for _ in d['features']])\n",
    "center_coordinates = collection.centroid.coords[0]\n",
    "center_coordinates"
   ]
  },
  {
   "cell_type": "markdown",
   "metadata": {},
   "source": [
    "## Table Joins"
   ]
  },
  {
   "cell_type": "code",
   "execution_count": null,
   "metadata": {},
   "outputs": [],
   "source": [
    "import pandas as pd"
   ]
  },
  {
   "cell_type": "code",
   "execution_count": null,
   "metadata": {},
   "outputs": [],
   "source": [
    "url = 'https://data.cityofnewyork.us/api/views/gpwd-npar/rows.csv'\n",
    "nyc_graffiti_table = pd.read_csv(url, dtype=str)\n",
    "len(nyc_graffiti_table)"
   ]
  },
  {
   "cell_type": "code",
   "execution_count": null,
   "metadata": {},
   "outputs": [],
   "source": [
    "nyc_graffiti_table.iloc[0]"
   ]
  },
  {
   "cell_type": "code",
   "execution_count": null,
   "metadata": {},
   "outputs": [],
   "source": [
    "nyc_graffiti_counts_table = nyc_graffiti_table[[\n",
    "    'STATUS', 'ZIP_CODE',\n",
    "]].groupby('ZIP_CODE').count()\n",
    "nyc_graffiti_counts_table = nyc_graffiti_counts_table.rename({\n",
    "    'STATUS': 'GRAFFITI_COUNT'}, axis=1)\n",
    "nyc_graffiti_counts_table"
   ]
  },
  {
   "cell_type": "code",
   "execution_count": null,
   "metadata": {},
   "outputs": [],
   "source": [
    "joined_table = pd.merge(\n",
    "    raw_nyc_zip_code_table,\n",
    "    nyc_graffiti_counts_table,\n",
    "    left_on='ZIPCODE',\n",
    "    right_on='ZIP_CODE')"
   ]
  },
  {
   "cell_type": "code",
   "execution_count": null,
   "metadata": {},
   "outputs": [],
   "source": [
    "joined_table['GRAFFITI_SCORE'] = joined_table['GRAFFITI_COUNT'] / joined_table['AREA'] * 1000000"
   ]
  },
  {
   "cell_type": "code",
   "execution_count": null,
   "metadata": {},
   "outputs": [],
   "source": [
    "dict(joined_table.iloc[0])"
   ]
  },
  {
   "cell_type": "markdown",
   "metadata": {},
   "source": [
    "## Color Stops"
   ]
  },
  {
   "cell_type": "code",
   "execution_count": null,
   "metadata": {},
   "outputs": [],
   "source": [
    "\n",
    "t['AREA'].describe()"
   ]
  },
  {
   "cell_type": "code",
   "execution_count": null,
   "metadata": {},
   "outputs": [],
   "source": [
    "t['POPULATION'].describe()"
   ]
  },
  {
   "cell_type": "code",
   "execution_count": null,
   "metadata": {},
   "outputs": [],
   "source": [
    "t['AREA'].describe()[3:]"
   ]
  },
  {
   "cell_type": "code",
   "execution_count": null,
   "metadata": {},
   "outputs": [],
   "source": [
    "t['AREA'].describe()[3:].tolist()"
   ]
  },
  {
   "cell_type": "markdown",
   "metadata": {},
   "source": [
    "## Full Example"
   ]
  },
  {
   "cell_type": "code",
   "execution_count": null,
   "metadata": {},
   "outputs": [],
   "source": [
    "# Load shapefile\n",
    "import geotable\n",
    "url = 'https://data.cityofnewyork.us/download/i8iw-xf4u/application%2Fzip'\n",
    "raw_nyc_zip_code_table = geotable.load(url)\n",
    "raw_nyc_zip_code_table = raw_nyc_zip_code_table[[\n",
    "    'ZIPCODE', 'POPULATION', 'AREA', 'geometry_object', 'geometry_proj4']]\n",
    "raw_nyc_zip_code_table"
   ]
  },
  {
   "cell_type": "code",
   "execution_count": null,
   "metadata": {},
   "outputs": [],
   "source": [
    "# Add data\n",
    "raw_nyc_zip_code_table['DENSITY'] = raw_nyc_zip_code_table[\n",
    "    'POPULATION'] / raw_nyc_zip_code_table['AREA']"
   ]
  },
  {
   "cell_type": "code",
   "execution_count": null,
   "metadata": {},
   "outputs": [],
   "source": [
    "# Join data\n",
    "import pandas as pd\n",
    "url = 'https://data.cityofnewyork.us/api/views/gpwd-npar/rows.csv'\n",
    "nyc_graffiti_table = pd.read_csv(url, dtype='str')\n",
    "nyc_graffiti_counts_table = nyc_graffiti_table[[\n",
    "    'STATUS', 'ZIP_CODE',\n",
    "]].groupby('ZIP_CODE').count()\n",
    "nyc_graffiti_counts_table = nyc_graffiti_counts_table.rename({\n",
    "    'STATUS': 'GRAFFITI_COUNT'}, axis=1)\n",
    "joined_table = pd.merge(\n",
    "    raw_nyc_zip_code_table,\n",
    "    nyc_graffiti_counts_table,\n",
    "    left_on='ZIPCODE',\n",
    "    right_on='ZIP_CODE')\n",
    "joined_table['GRAFFITI_SCORE'] = joined_table['GRAFFITI_COUNT'] / joined_table['AREA'] * 1000000\n",
    "joined_table"
   ]
  },
  {
   "cell_type": "code",
   "execution_count": null,
   "metadata": {},
   "outputs": [],
   "source": [
    "# Get geojson\n",
    "import json\n",
    "joined_geojson_path = joined_table[[\n",
    "    'ZIPCODE',\n",
    "    'DENSITY',\n",
    "    'GRAFFITI_SCORE',\n",
    "    'geometry_object',\n",
    "    'geometry_proj4',\n",
    "]].save_geojson(join(datasets_folder, 'd.geojson'))\n",
    "d = json.load(open(joined_geojson_path, 'rt'))\n",
    "len(d['features'])"
   ]
  },
  {
   "cell_type": "code",
   "execution_count": null,
   "metadata": {},
   "outputs": [],
   "source": [
    "# Compute stops\n",
    "graffiti_score = joined_table['GRAFFITI_SCORE']\n",
    "graffiti_score_stops = graffiti_score.describe()[3:].tolist()\n",
    "\n",
    "density = joined_table['DENSITY']\n",
    "density_stops = density.describe()[3:].tolist()"
   ]
  },
  {
   "cell_type": "code",
   "execution_count": null,
   "metadata": {},
   "outputs": [],
   "source": [
    "# Compute center coordinates\n",
    "from shapely.geometry import GeometryCollection, shape\n",
    "collection = GeometryCollection([shape(_['geometry']) for _ in d['features']])\n",
    "center_coordinates = collection.centroid.coords[0]\n",
    "center_coordinates"
   ]
  },
  {
   "cell_type": "code",
   "execution_count": null,
   "metadata": {},
   "outputs": [],
   "source": [
    "# Render choropleth\n",
    "from mapboxgl.utils import create_color_stops, create_numeric_stops\n",
    "from mapboxgl.viz import ChoroplethViz\n",
    "from os import getenv\n",
    "\n",
    "MAPBOX_TOKEN = getenv('MAPBOX_TOKEN', 'YOUR-MAPBOX-TOKEN')\n",
    "\n",
    "v = ChoroplethViz(\n",
    "    d,\n",
    "    style='mapbox://styles/mapbox/dark-v10',    \n",
    "    access_token=MAPBOX_TOKEN,\n",
    "    color_property='GRAFFITI_SCORE',\n",
    "    color_stops=create_color_stops(graffiti_score_stops, colors='Reds'),\n",
    "    # color_property='DENSITY',\n",
    "    # color_stops=create_color_stops(density_stops, colors='Blues'),\n",
    "    color_function_type='interpolate',\n",
    "    line_stroke='--',\n",
    "    line_color='black',\n",
    "    line_width=1,\n",
    "    line_opacity=0.9,\n",
    "    opacity=0.8,\n",
    "    center=center_coordinates,\n",
    "    zoom=9,\n",
    "    below_layer='waterway-label',\n",
    "    legend_layout='horizontal',\n",
    "    legend_key_shape='bar',\n",
    "    legend_key_borders_on=False)\n",
    "# v.bearing = 30\n",
    "# v.pitch = 30\n",
    "# v.height_property = 'DENSITY'\n",
    "# v.height_stops = create_numeric_stops(density_stops, 0, 5000)\n",
    "# v.height_function_type = 'interpolate'\n",
    "v.show()"
   ]
  }
 ],
 "metadata": {
  "kernelspec": {
   "display_name": "Python 3",
   "language": "python",
   "name": "python3"
  },
  "language_info": {
   "codemirror_mode": {
    "name": "ipython",
    "version": 3
   },
   "file_extension": ".py",
   "mimetype": "text/x-python",
   "name": "python",
   "nbconvert_exporter": "python",
   "pygments_lexer": "ipython3",
   "version": "3.9.7"
  }
 },
 "nbformat": 4,
 "nbformat_minor": 4
}
